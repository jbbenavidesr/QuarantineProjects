{
 "cells": [
  {
   "cell_type": "markdown",
   "metadata": {},
   "source": [
    "# Código de Hamming\n",
    "Acá nos debemos echar un buen carretazo de introducción."
   ]
  },
  {
   "cell_type": "markdown",
   "metadata": {},
   "source": [
    "## Algorítmo\n",
    "\n",
    "Primero lo describo un poco a grandes rasgos y luego lo voy desglosando.\n",
    "\n",
    "- **Entrada:** Una lista de probabilidades correspondientes a cada una de los posibles resultados.\n",
    "\n",
    "- **Salida:** El código de Hamming correspondiente a cada uno de dichos resultados.\n",
    "\n",
    "Ahora el proceso:\n",
    "\n",
    "1. Ordenar la lista.\n",
    "\n",
    "2. Sumar las últimas 2 probabilidades de la lista, con lo que se tiene una nueva lista con un elemento menos.\n",
    "\n",
    "3. Repetir los pasos 1 y dos hasta que la lista tenga solamente 2 elementos. Hacer el seguimiento en cada paso de cuales de los elementos originales se han sumado para formar cada uno de los elementos en las nuevas listas.\n",
    "\n",
    "4. En la lista original, se le asigna un 1 a todos los elementos que se sumaron para hacer el mayor de los elementos en la lista final y se les asigna un 0 a los que se sumaron para el menor.\n",
    "\n",
    "5. Se repite el proceso 4 para los 2 elementos de menor probabilidad en cada uno de los pasos de la reducción.\n",
    "\n"
   ]
  }
 ],
 "metadata": {
  "kernelspec": {
   "display_name": "Python 3",
   "language": "python",
   "name": "python3"
  },
  "language_info": {
   "codemirror_mode": {
    "name": "ipython",
    "version": 3
   },
   "file_extension": ".py",
   "mimetype": "text/x-python",
   "name": "python",
   "nbconvert_exporter": "python",
   "pygments_lexer": "ipython3",
   "version": "3.8.3"
  }
 },
 "nbformat": 4,
 "nbformat_minor": 4
}
