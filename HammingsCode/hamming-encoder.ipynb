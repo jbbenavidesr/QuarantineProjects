{
 "cells": [
  {
   "cell_type": "markdown",
   "metadata": {},
   "source": [
    "# Código de Hamming\n",
    "Acá nos debemos echar un buen carretazo de introducción."
   ]
  },
  {
   "cell_type": "markdown",
   "metadata": {},
   "source": [
    "## Algorítmo\n",
    "\n",
    "Primero lo describo un poco a grandes rasgos y luego lo voy desglosando.\n",
    "\n",
    "- **Entrada:** Una lista de probabilidades correspondientes a cada una de los posibles resultados.\n",
    "\n",
    "- **Salida:** El código de Hamming correspondiente a cada uno de dichos resultados.\n",
    "\n",
    "Ahora el proceso:\n",
    "\n",
    "1. Ordenar la lista.\n",
    "\n",
    "2. Sumar las últimas 2 probabilidades de la lista.\n",
    "\n",
    "3. Reescriba la lista cambiando los 2 últimos elementos por la suma en el paso 2.\n",
    "\n",
    "4. Ordene la lista \n",
    "\n",
    "5. Asocie la posición de la suma a los 2 elementos que la conforman.\n",
    "\n",
    "5. Repita pasos 2-4 hasta que la lista se haya reducido a una lista de 2 elementos.\n",
    "\n",
    "6. A los números de la lista original que conforman el elemento mayor, asigneles un 1.\n",
    "\n",
    "7. A los otros, asigneles un 0.\n",
    "\n",
    "8. Repita los pasos 6 y 7 usando los dos menores números en las listas del proceso de reducción hasta que regrese a la lista original.\n",
    "\n",
    "En este punto, cada elemento de la lista original, tiene su código de hamming asociado. \n",
    "\n"
   ]
  },
  {
   "cell_type": "code",
   "execution_count": 6,
   "metadata": {},
   "outputs": [],
   "source": [
    "# Set up:\n",
    "\n",
    "entrada = (0.512, 0.128, 0.128, 0.128, 0.032, 0.032, 0.032, 0.008)\n",
    "N = len(entrada)"
   ]
  },
  {
   "cell_type": "markdown",
   "metadata": {},
   "source": [
    "## Primera parte: Reducción\n",
    "Acá realizaré los pasos 1 a 5. Es importante almacenar el orden en este proceso de reducción."
   ]
  },
  {
   "cell_type": "code",
   "execution_count": 9,
   "metadata": {},
   "outputs": [
    {
     "data": {
      "text/plain": [
       "['1', '011', '010', '001', '00011', '00010', '00001', '00000']"
      ]
     },
     "execution_count": 9,
     "metadata": {},
     "output_type": "execute_result"
    }
   ],
   "source": [
    "def reduce_step(probabilities, history):\n",
    "    n = len(probabilities) # Número de probabilidades\n",
    "    ordered = sorted(probabilities, reverse = True) # Paso 1\n",
    "    sum_last2 = ordered[-1] + ordered[-2] # Paso 2\n",
    "    nlist = [i for i in ordered[:-2]] + [sum_last2] # Paso 3\n",
    "    sorted_nlist = sorted(nlist, reverse = True) # Paso 4\n",
    "    index = sorted_nlist.index(sum_last2) \n",
    "    for i, element in enumerate(history):\n",
    "        # Paso 5: se almacenará las posiciones de todos en una historia.\n",
    "        if int(element[-1]) < index:\n",
    "            history[i] += element[-1]\n",
    "        elif (int(element[-1]) >= index) and (int(element[-1]) < n-2):\n",
    "            history[i] += str(int(element[-1]) + 1)\n",
    "        elif int(element[-1]) >= n-2:\n",
    "            history[i] += str(index)\n",
    "    return sorted_nlist\n",
    "    \n",
    "def reduce_list(probabilities):\n",
    "    n = 1\n",
    "    hist = [str(i) for i in range(N)]\n",
    "    step = sorted([i for i in probabilities], reverse=True)\n",
    "    while len(step) > 2:\n",
    "        step = reduce_step(step, hist)\n",
    "        n+=1\n",
    "    return hist, n\n",
    "\n",
    "def hamming(probabilities):\n",
    "    \n",
    "    history, steps = reduce_list(probabilities)\n",
    "    hamming = ['' for p in probabilities]\n",
    "    \n",
    "    for step in range(steps):\n",
    "        for n, item in enumerate(history):\n",
    "            if int(item[-(step+1)]) == step:\n",
    "                hamming[n] += '1'\n",
    "            elif int(item[-(step+1)]) == step + 1:\n",
    "                hamming[n] += '0'\n",
    "    return hamming\n",
    "    \n",
    "\n",
    "\n",
    "hamming(list(entrada))\n"
   ]
  }
 ],
 "metadata": {
  "kernelspec": {
   "display_name": "Python 3",
   "language": "python",
   "name": "python3"
  },
  "language_info": {
   "codemirror_mode": {
    "name": "ipython",
    "version": 3
   },
   "file_extension": ".py",
   "mimetype": "text/x-python",
   "name": "python",
   "nbconvert_exporter": "python",
   "pygments_lexer": "ipython3",
   "version": "3.8.3"
  }
 },
 "nbformat": 4,
 "nbformat_minor": 4
}
